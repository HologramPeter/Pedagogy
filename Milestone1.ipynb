{
 "cells": [
  {
   "cell_type": "code",
   "execution_count": 12,
   "metadata": {},
   "outputs": [
    {
     "name": "stdout",
     "output_type": "stream",
     "text": [
      "1+2*3-8/4 \tcorrect\n",
      "= 1+6-2 \tcorrect\n",
      "= 5 \tcorrect\n"
     ]
    }
   ],
   "source": [
    "formula = \"1+2*3-8/4 = 1+6-2 = 5\"\n",
    "ans = 5\n",
    "lines = formula.split(\"=\")\n",
    "if eval(lines[0]) == ans:\n",
    "    print(lines[0].strip(), \"\\tcorrect\")\n",
    "else:\n",
    "    print(lines[0].strip(), \"\\twrong\")\n",
    "        \n",
    "\n",
    "for line in lines[1:]:\n",
    "    if eval(line) == ans:\n",
    "        print(\"=\",line.strip(), \"\\tcorrect\")\n",
    "    else:\n",
    "        print(\"=\",line.strip(), \"\\twrong\")"
   ]
  },
  {
   "cell_type": "code",
   "execution_count": null,
   "metadata": {},
   "outputs": [],
   "source": []
  }
 ],
 "metadata": {
  "kernelspec": {
   "display_name": "Python 3.7 (tensorflow)",
   "language": "python",
   "name": "tensorflow"
  },
  "language_info": {
   "codemirror_mode": {
    "name": "ipython",
    "version": 3
   },
   "file_extension": ".py",
   "mimetype": "text/x-python",
   "name": "python",
   "nbconvert_exporter": "python",
   "pygments_lexer": "ipython3",
   "version": "3.7.9"
  }
 },
 "nbformat": 4,
 "nbformat_minor": 4
}
