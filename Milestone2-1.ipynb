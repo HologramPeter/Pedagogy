{
 "cells": [
  {
   "cell_type": "code",
   "execution_count": 24,
   "metadata": {},
   "outputs": [],
   "source": [
    "import os"
   ]
  },
  {
   "cell_type": "code",
   "execution_count": 1,
   "metadata": {},
   "outputs": [],
   "source": [
    "import random\n",
    "import tensorflow as tf\n",
    "import numpy as np"
   ]
  },
  {
   "cell_type": "code",
   "execution_count": 2,
   "metadata": {},
   "outputs": [],
   "source": [
    "#conversion dictionary\n",
    "symbol = {\n",
    "    '+':1,\n",
    "    '-':2,\n",
    "    '*':3,\n",
    "    '/':4,\n",
    "}\n",
    "\n",
    "symbol_s = {\n",
    "    1:'+',\n",
    "    2:'-',\n",
    "    3:'*',\n",
    "    4:'/',\n",
    "}"
   ]
  },
  {
   "cell_type": "code",
   "execution_count": 3,
   "metadata": {},
   "outputs": [],
   "source": [
    "upper_bound=10\n",
    "lower_bound=1\n",
    "\n",
    "#generate 5-numbers-math-question\n",
    "\n",
    "def generateEquation():\n",
    "    eq = []\n",
    "    eq.append(str(random.randint(lower_bound, upper_bound)))\n",
    "    for i in range(4):\n",
    "        eq.append(symbol_s[random.randint(1, 4)*1])\n",
    "        eq.append(str(random.randint(lower_bound, upper_bound)))\n",
    "    return eq"
   ]
  },
  {
   "cell_type": "code",
   "execution_count": 4,
   "metadata": {},
   "outputs": [
    {
     "name": "stdout",
     "output_type": "stream",
     "text": [
      "8/9+7/5*3\n"
     ]
    }
   ],
   "source": [
    "#TEST-ONLY\n",
    "test = generateEquation()\n",
    "print(''.join(test))"
   ]
  },
  {
   "cell_type": "code",
   "execution_count": 5,
   "metadata": {},
   "outputs": [],
   "source": [
    "def generateStep(a):  \n",
    "    mark=[]\n",
    "    sol = [a]\n",
    "    \n",
    "    n = len(a)//2\n",
    "    \n",
    "    prev = a\n",
    "    for i in range(n-1,-1,-1):\n",
    "        #pick a random sign to generate step\n",
    "        x = random.randint(0,i)*2\n",
    "        \n",
    "        \n",
    "        #skip over empty cells\n",
    "        middle = x+1\n",
    "        while prev[middle]=='':\n",
    "            middle+=1\n",
    "            \n",
    "        start = middle-1\n",
    "        while prev[start]=='':\n",
    "            start-=1\n",
    "            \n",
    "        end = middle+1\n",
    "        while prev[end]=='':\n",
    "            end+=1\n",
    "        \n",
    "        \n",
    "        #prefix\n",
    "        step = prev[:start]\n",
    "        #process\n",
    "        cal_value = eval(''.join(prev[start:end+1]))\n",
    "        step.append(str(cal_value))\n",
    "        #suffix\n",
    "        step += ['']*(end-start)\n",
    "        step += prev[end+1:]\n",
    "        sol.append(step)\n",
    "        \n",
    "        \n",
    "        #give step mark\n",
    "        sym = a[middle]\n",
    "        if sym == '+':\n",
    "            mark.append(0) if (('*' in prev) or ('/' in prev)) else mark.append(1)\n",
    "        elif sym == '-':\n",
    "            mark.append(0) if (('*' in prev) or ('/' in prev)) else mark.append(1)\n",
    "        else:\n",
    "            mark.append(1)\n",
    "        \n",
    "        #generate next step\n",
    "        prev = step\n",
    "    \n",
    "    return (sol,mark)"
   ]
  },
  {
   "cell_type": "code",
   "execution_count": 6,
   "metadata": {
    "scrolled": true
   },
   "outputs": [
    {
     "name": "stdout",
     "output_type": "stream",
     "text": [
      "9\n",
      "9\n",
      "9\n",
      "9\n",
      "9\n"
     ]
    }
   ],
   "source": [
    "#TEST-ONLY\n",
    "test = generateEquation()\n",
    "(sol,mark) = generateStep(test)\n",
    "for step in sol:\n",
    "    print(len(step))"
   ]
  },
  {
   "cell_type": "code",
   "execution_count": 7,
   "metadata": {},
   "outputs": [],
   "source": [
    "#tokenize solution convert:\n",
    "#empty ''  to    0\n",
    "#numbers   to    float\n",
    "#signs     to    token values\n",
    "\n",
    "def Token(a):\n",
    "    _a = []\n",
    "    for x in range(2):\n",
    "        _step = []\n",
    "        for i in a[x]:\n",
    "            if i == '':\n",
    "                _i=0\n",
    "            else:\n",
    "                try:\n",
    "                    _i = float(i)\n",
    "                except:\n",
    "                    _i = symbol[i]\n",
    "            _step.append(_i)\n",
    "        _a.append(_step)\n",
    "    return _a"
   ]
  },
  {
   "cell_type": "code",
   "execution_count": 8,
   "metadata": {},
   "outputs": [
    {
     "name": "stdout",
     "output_type": "stream",
     "text": [
      "7940 7940\n"
     ]
    }
   ],
   "source": [
    "training_size = 2000\n",
    "\n",
    "traindata=[]\n",
    "trainlabel=[]\n",
    "\n",
    "#generate training set\n",
    "#( [step => step],mark )   as 1 training case \n",
    "for i in range(training_size):\n",
    "    try:\n",
    "        (sol, mark) = generateStep(generateEquation())\n",
    "        for j in range(4):\n",
    "            traindata.append(Token(sol[j:j+2]))\n",
    "        trainlabel+=mark\n",
    "    except:\n",
    "        i=i-1"
   ]
  },
  {
   "cell_type": "code",
   "execution_count": null,
   "metadata": {},
   "outputs": [],
   "source": [
    "#TEST-ONLY\n",
    "print(len(traindata),len(trainlabel))"
   ]
  },
  {
   "cell_type": "code",
   "execution_count": 9,
   "metadata": {},
   "outputs": [],
   "source": [
    "#employ model with 18*2 neurons for accuracy improvement\n",
    "\n",
    "model = tf.keras.models.Sequential([tf.keras.layers.Flatten(), \n",
    "                                    tf.keras.layers.Dense(36, activation=tf.nn.relu),\n",
    "                                    tf.keras.layers.Dense(2, activation=tf.nn.softmax)])\n",
    "\n",
    "model.compile(optimizer = tf.keras.optimizers.Adam(),\n",
    "              loss = 'sparse_categorical_crossentropy',\n",
    "              metrics=['accuracy'])"
   ]
  },
  {
   "cell_type": "code",
   "execution_count": 10,
   "metadata": {},
   "outputs": [
    {
     "name": "stdout",
     "output_type": "stream",
     "text": [
      "Epoch 1/10\n",
      "249/249 [==============================] - 0s 469us/step - loss: 0.9205 - accuracy: 0.7202\n",
      "Epoch 2/10\n",
      "249/249 [==============================] - 0s 473us/step - loss: 0.5040 - accuracy: 0.7790\n",
      "Epoch 3/10\n",
      "249/249 [==============================] - 0s 457us/step - loss: 0.3910 - accuracy: 0.8385\n",
      "Epoch 4/10\n",
      "249/249 [==============================] - 0s 481us/step - loss: 0.3419 - accuracy: 0.8686\n",
      "Epoch 5/10\n",
      "249/249 [==============================] - 0s 481us/step - loss: 0.2896 - accuracy: 0.8975\n",
      "Epoch 6/10\n",
      "249/249 [==============================] - 0s 461us/step - loss: 0.2805 - accuracy: 0.9072\n",
      "Epoch 7/10\n",
      "249/249 [==============================] - 0s 473us/step - loss: 0.2367 - accuracy: 0.9170\n",
      "Epoch 8/10\n",
      "249/249 [==============================] - 0s 465us/step - loss: 0.2114 - accuracy: 0.9300\n",
      "Epoch 9/10\n",
      "249/249 [==============================] - 0s 469us/step - loss: 0.2108 - accuracy: 0.9252\n",
      "Epoch 10/10\n",
      "249/249 [==============================] - 0s 477us/step - loss: 0.2225 - accuracy: 0.9246\n"
     ]
    },
    {
     "data": {
      "text/plain": [
       "<tensorflow.python.keras.callbacks.History at 0x20f2546d488>"
      ]
     },
     "execution_count": 10,
     "metadata": {},
     "output_type": "execute_result"
    }
   ],
   "source": [
    "model.fit(traindata, trainlabel, epochs=10)"
   ]
  },
  {
   "cell_type": "code",
   "execution_count": 11,
   "metadata": {},
   "outputs": [],
   "source": [
    "test_size = 1000\n",
    "\n",
    "testdata=[]\n",
    "testlabel=[]\n",
    "\n",
    "#generate test cases\n",
    "for i in range(test_size):\n",
    "    try:\n",
    "        (sol, mark) = generateStep(generateEquation())\n",
    "        for j in range(4):\n",
    "            testdata.append(Token(sol[j:j+2]))\n",
    "        testlabel+=mark\n",
    "    except:\n",
    "        i=i-1"
   ]
  },
  {
   "cell_type": "code",
   "execution_count": 12,
   "metadata": {},
   "outputs": [
    {
     "name": "stdout",
     "output_type": "stream",
     "text": [
      "249/249 [==============================] - 0s 380us/step - loss: 0.2404 - accuracy: 0.9293\n"
     ]
    },
    {
     "data": {
      "text/plain": [
       "[0.24040469527244568, 0.9292713403701782]"
      ]
     },
     "execution_count": 12,
     "metadata": {},
     "output_type": "execute_result"
    }
   ],
   "source": [
    "model.evaluate(testdata, testlabel)"
   ]
  },
  {
   "cell_type": "code",
   "execution_count": 25,
   "metadata": {},
   "outputs": [
    {
     "name": "stderr",
     "output_type": "stream",
     "text": [
      "A subdirectory or file -p already exists.\n",
      "Error occurred while processing: -p.\n",
      "A subdirectory or file saved_model already exists.\n",
      "Error occurred while processing: saved_model.\n"
     ]
    },
    {
     "name": "stdout",
     "output_type": "stream",
     "text": [
      "INFO:tensorflow:Assets written to: saved_model/my_model\\assets\n"
     ]
    }
   ],
   "source": [
    "# Save the whole model\n",
    "!mkdir -p saved_model\n",
    "model.save('saved_model/my_model') "
   ]
  },
  {
   "cell_type": "code",
   "execution_count": null,
   "metadata": {},
   "outputs": [],
   "source": [
    "############  WEB-DEMO BEGINS HERE ############"
   ]
  },
  {
   "cell_type": "code",
   "execution_count": 14,
   "metadata": {},
   "outputs": [],
   "source": [
    "### need to include the Token(a) function ###\n",
    "\n",
    "#Convert input solution to format compatible with model\n",
    "LENGTH = 9\n",
    "def Standardize(a):\n",
    "    sol = []\n",
    "    \n",
    "    for line in a:\n",
    "        step = []\n",
    "        l = len(line)\n",
    "        start = 0\n",
    "        end = 0\n",
    "        e = 0\n",
    "        while end < l:\n",
    "            #find next index of next sign\n",
    "            while line[end] not in symbol.keys():\n",
    "                end+=1\n",
    "                if end >= l:\n",
    "                    break\n",
    "            \n",
    "            #append the previous number\n",
    "            step.append(line[start:end])\n",
    "            if end >= l:\n",
    "                break\n",
    "            \n",
    "            #append spaces to fit in position\n",
    "            sym = line[end]\n",
    "            if len(sol) > 0:\n",
    "                e = len(step)+1\n",
    "                while sym != sol[0][e]:\n",
    "                    step.append('')\n",
    "                    e+=1\n",
    "            \n",
    "            #append sign\n",
    "            step.append(sym)\n",
    "            \n",
    "            start=end+1\n",
    "            end+=1\n",
    "        \n",
    "        #standardize length of solution for the AI model\n",
    "        step += ['']*(LENGTH-len(step))   \n",
    "        sol.append(step)\n",
    "    \n",
    "    return sol"
   ]
  },
  {
   "cell_type": "code",
   "execution_count": null,
   "metadata": {},
   "outputs": [],
   "source": [
    "new_model = tf.keras.models.load_model('saved_model/my_model')"
   ]
  },
  {
   "cell_type": "code",
   "execution_count": 15,
   "metadata": {},
   "outputs": [
    {
     "name": "stdout",
     "output_type": "stream",
     "text": [
      "1+2*3-8/4\n",
      "= 3*3-8/4 \t\t 0 100.0\n",
      "= 3*3-2 \t\t 1 100.0\n",
      "= 9-2 \t\t 1 99.3\n",
      "= 7\n"
     ]
    }
   ],
   "source": [
    "#Practice\n",
    "formula = \"1+2*3-8/4 = 3*3-8/4 = 3*3-2 = 9-2 = 7\"\n",
    "\n",
    "#adjust formula\n",
    "lines = formula.split(\"=\")\n",
    "for i in range(len(lines)):\n",
    "    lines[i]=lines[i].strip()\n",
    "sol = Standardize(lines)\n",
    "\n",
    "n = len(sol)\n",
    "\n",
    "#print question\n",
    "print(''.join(sol[0]))\n",
    "\n",
    "\n",
    "for j in range(1, n-1):\n",
    "    #use AI to process\n",
    "    input_sol = Token(sol[j-1:j+1])\n",
    "    result = model.predict([input_sol])\n",
    "    \n",
    "    #print result\n",
    "    print('=',''.join(sol[j]), end=' ')\n",
    "    print(\"\\t\\t\",np.argmax(result),round(max(result[0])*100,2))\n",
    "\n",
    "print('=',''.join(sol[n-1]))"
   ]
  }
 ],
 "metadata": {
  "kernelspec": {
   "display_name": "Python 3.7 (tensorflow)",
   "language": "python",
   "name": "tensorflow"
  },
  "language_info": {
   "codemirror_mode": {
    "name": "ipython",
    "version": 3
   },
   "file_extension": ".py",
   "mimetype": "text/x-python",
   "name": "python",
   "nbconvert_exporter": "python",
   "pygments_lexer": "ipython3",
   "version": "3.7.9"
  }
 },
 "nbformat": 4,
 "nbformat_minor": 4
}
