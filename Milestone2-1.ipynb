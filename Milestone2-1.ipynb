{
 "cells": [
  {
   "cell_type": "code",
   "execution_count": 1,
   "metadata": {},
   "outputs": [],
   "source": [
    "import random\n",
    "import tensorflow as tf\n",
    "import numpy as np"
   ]
  },
  {
   "cell_type": "code",
   "execution_count": 2,
   "metadata": {},
   "outputs": [],
   "source": [
    "upper_bound=10\n",
    "lower_bound=1\n",
    "symbol = {\n",
    "    '+':1000,\n",
    "    '-':2000,\n",
    "    '*':3000,\n",
    "    '/':4000,\n",
    "}\n",
    "\n",
    "symbol_s = {\n",
    "    1000:'+',\n",
    "    2000:'-',\n",
    "    3000:'*',\n",
    "    4000:'/',\n",
    "}"
   ]
  },
  {
   "cell_type": "code",
   "execution_count": 3,
   "metadata": {},
   "outputs": [],
   "source": [
    "def convertToArray(s):\n",
    "    a = []\n",
    "    prev_index=0\n",
    "    for i in range(len(s)):\n",
    "        if s[i] in symbol.keys():\n",
    "            a.append(int(s[prev_index:i]))\n",
    "            a.append(symbol[s[i]])\n",
    "            prev_index = i+1\n",
    "            \n",
    "    a.append(int(s[prev_index:len(s)]))\n",
    "    return a\n",
    "    \n",
    "#convert equation to array\n",
    "\n",
    "def convertToString(a):\n",
    "    s=\"\"\n",
    "    for i in a:\n",
    "        if i in symbol_s.keys():\n",
    "            s=s+(symbol_s[i])\n",
    "        else:\n",
    "            s=s+(str(i))\n",
    "    return s"
   ]
  },
  {
   "cell_type": "code",
   "execution_count": 4,
   "metadata": {},
   "outputs": [
    {
     "name": "stdout",
     "output_type": "stream",
     "text": [
      "[11, 1000, 2, 4000, 344, 3000, 4]\n",
      "11+2/344*4\n"
     ]
    }
   ],
   "source": [
    "ss = convertToArray(\"11+2/344*4\")\n",
    "print(ss)\n",
    "print(convertToString(ss))"
   ]
  },
  {
   "cell_type": "code",
   "execution_count": 5,
   "metadata": {},
   "outputs": [],
   "source": [
    "def generateEquation():\n",
    "    eq = []\n",
    "    eq.append(random.randint(lower_bound, upper_bound))\n",
    "    for i in range(4):\n",
    "        eq.append(random.randint(1, 4)*1000)\n",
    "        eq.append(random.randint(lower_bound, upper_bound))\n",
    "    return eq"
   ]
  },
  {
   "cell_type": "code",
   "execution_count": 6,
   "metadata": {},
   "outputs": [
    {
     "name": "stdout",
     "output_type": "stream",
     "text": [
      "5*7+6*3*2\n"
     ]
    }
   ],
   "source": [
    "test = generateEquation()\n",
    "print(convertToString(test))"
   ]
  },
  {
   "cell_type": "code",
   "execution_count": 7,
   "metadata": {},
   "outputs": [],
   "source": [
    "def generateStep(a):  \n",
    "    mark=[[],[]] # step1 and step 2 marks\n",
    "    sol = [a]\n",
    "    \n",
    "    n = len(a)//2\n",
    "    \n",
    "    prev = a\n",
    "    for i in range(n-1,-1,-1):\n",
    "        x = random.randint(0,i)\n",
    "        #print(\"i=\"+str(i)+\"x=\"+str(x))\n",
    "        #print(prev[:2*x],prev[2*x+3:])\n",
    "        \n",
    "        step = prev[:2*x]\n",
    "        \n",
    "        #process step\n",
    "        sym = a[2*x+1]\n",
    "        #print(sym)\n",
    "        error = random.randint(0,4)//4\n",
    "        if sym == 1000:\n",
    "            step.append(prev[2*x] + prev[2*x+2]+error)\n",
    "            mark[0].append(0) if (3000 in prev) or (4000 in prev) else mark[0].append(1)\n",
    "            mark[1].append(0) if error != 0 else mark[1].append(1)\n",
    "        elif sym == 2000:\n",
    "            step.append(prev[2*x] - prev[2*x+2]+error)\n",
    "            mark[0].append(0) if (3000 in prev) or (4000 in prev) else mark[0].append(1)\n",
    "            mark[1].append(0) if error != 0 else mark[1].append(1)\n",
    "        elif sym == 3000:\n",
    "            step.append(prev[2*x] * prev[2*x+2]+error)\n",
    "            mark[0].append(1);\n",
    "            mark[1].append(0) if error != 0 else mark[1].append(1)\n",
    "        elif sym == 4000:\n",
    "            step.append(prev[2*x] / prev[2*x+2]+error)\n",
    "            mark[0].append(1);\n",
    "            mark[1].append(0) if error != 0 else mark[1].append(1)\n",
    "        \n",
    "        step += prev[2*x+3:]\n",
    "        step += [0]*(len(a)-len(step))\n",
    "        #print(step)\n",
    "        sol.append(step)\n",
    "        prev = step\n",
    "    \n",
    "    \n",
    "    \n",
    "    \n",
    "    \n",
    "    return (sol,mark)"
   ]
  },
  {
   "cell_type": "code",
   "execution_count": 8,
   "metadata": {
    "scrolled": true
   },
   "outputs": [
    {
     "name": "stdout",
     "output_type": "stream",
     "text": [
      "[1, 2000, 5, 2000, 4, 4000, 1, 4000, 6]\n",
      "[1, 2000, 2, 4000, 1, 4000, 6, 0, 0]\n",
      "[1, 2000, 2, 4000, 6, 0, 0, 0, 0]\n",
      "[-1, 4000, 6, 0, 0, 0, 0, 0, 0]\n",
      "[-6, 0, 0, 0, 0, 0, 0, 0, 0]\n",
      "[0, 0, 0, 0]\n",
      "[0, 0, 1, 0]\n"
     ]
    }
   ],
   "source": [
    "test = generateEquation()\n",
    "for step in generateStep(test):\n",
    "    for i in step:\n",
    "        print(i)"
   ]
  },
  {
   "cell_type": "code",
   "execution_count": 27,
   "metadata": {},
   "outputs": [],
   "source": [
    "size = 5000\n",
    "\n",
    "traindata=[]\n",
    "trainlabel1=[]\n",
    "trainlabel2=[]\n",
    "\n",
    "for i in range(size):\n",
    "    try:\n",
    "        (sol, mark) = generateStep(generateEquation())\n",
    "        for j in range(4):\n",
    "            traindata.append(sol[j:j+2])\n",
    "        trainlabel1+=mark[0]\n",
    "        trainlabel2+=mark[1]\n",
    "    except:\n",
    "        i=i-1"
   ]
  },
  {
   "cell_type": "code",
   "execution_count": 61,
   "metadata": {},
   "outputs": [],
   "source": [
    "model1 = tf.keras.models.Sequential([tf.keras.layers.Flatten(), \n",
    "                                    tf.keras.layers.Dense(72, activation=tf.nn.relu), \n",
    "                                    tf.keras.layers.Dense(16, activation=tf.nn.relu), \n",
    "                                    tf.keras.layers.Dense(2, activation=tf.nn.softmax)])\n",
    "\n",
    "model1.compile(optimizer = tf.keras.optimizers.Adam(),\n",
    "              loss = 'sparse_categorical_crossentropy',\n",
    "              metrics=['accuracy'])"
   ]
  },
  {
   "cell_type": "code",
   "execution_count": 62,
   "metadata": {},
   "outputs": [
    {
     "name": "stdout",
     "output_type": "stream",
     "text": [
      "Epoch 1/10\n",
      "620/620 [==============================] - 0s 496us/step - loss: 8.8899 - accuracy: 0.6925\n",
      "Epoch 2/10\n",
      "620/620 [==============================] - 0s 489us/step - loss: 1.4000 - accuracy: 0.7258\n",
      "Epoch 3/10\n",
      "620/620 [==============================] - 0s 482us/step - loss: 0.8983 - accuracy: 0.7452\n",
      "Epoch 4/10\n",
      "620/620 [==============================] - 0s 490us/step - loss: 0.7224 - accuracy: 0.7629\n",
      "Epoch 5/10\n",
      "620/620 [==============================] - 0s 479us/step - loss: 0.6776 - accuracy: 0.7714\n",
      "Epoch 6/10\n",
      "620/620 [==============================] - 0s 479us/step - loss: 0.6289 - accuracy: 0.7823\n",
      "Epoch 7/10\n",
      "620/620 [==============================] - 0s 490us/step - loss: 0.6042 - accuracy: 0.7800\n",
      "Epoch 8/10\n",
      "620/620 [==============================] - 0s 480us/step - loss: 0.4700 - accuracy: 0.7926\n",
      "Epoch 9/10\n",
      "620/620 [==============================] - 0s 480us/step - loss: 0.4397 - accuracy: 0.7993\n",
      "Epoch 10/10\n",
      "620/620 [==============================] - 0s 491us/step - loss: 0.4330 - accuracy: 0.7982\n"
     ]
    },
    {
     "data": {
      "text/plain": [
       "<tensorflow.python.keras.callbacks.History at 0x21e55b4b148>"
      ]
     },
     "execution_count": 62,
     "metadata": {},
     "output_type": "execute_result"
    }
   ],
   "source": [
    "model1.fit(traindata, trainlabel1, epochs=10)"
   ]
  },
  {
   "cell_type": "code",
   "execution_count": 63,
   "metadata": {},
   "outputs": [],
   "source": [
    "model2 = tf.keras.models.Sequential([tf.keras.layers.Flatten(), \n",
    "                                    tf.keras.layers.Dense(72, activation=tf.nn.relu), \n",
    "                                    tf.keras.layers.Dense(16, activation=tf.nn.relu), \n",
    "                                    tf.keras.layers.Dense(2, activation=tf.nn.softmax)])\n",
    "\n",
    "model2.compile(optimizer = tf.keras.optimizers.Adam(),\n",
    "              loss = 'sparse_categorical_crossentropy',\n",
    "              metrics=['accuracy'])"
   ]
  },
  {
   "cell_type": "code",
   "execution_count": 64,
   "metadata": {},
   "outputs": [
    {
     "name": "stdout",
     "output_type": "stream",
     "text": [
      "Epoch 1/10\n",
      "620/620 [==============================] - 0s 485us/step - loss: 25.0499 - accuracy: 0.6754\n",
      "Epoch 2/10\n",
      "620/620 [==============================] - 0s 479us/step - loss: 10.3256 - accuracy: 0.6777\n",
      "Epoch 3/10\n",
      "620/620 [==============================] - 0s 479us/step - loss: 8.3671 - accuracy: 0.6761\n",
      "Epoch 4/10\n",
      "620/620 [==============================] - 0s 485us/step - loss: 6.8817 - accuracy: 0.6820\n",
      "Epoch 5/10\n",
      "620/620 [==============================] - 0s 480us/step - loss: 6.7197 - accuracy: 0.6831\n",
      "Epoch 6/10\n",
      "620/620 [==============================] - 0s 490us/step - loss: 5.4650 - accuracy: 0.6839\n",
      "Epoch 7/10\n",
      "620/620 [==============================] - 0s 495us/step - loss: 5.4880 - accuracy: 0.6841\n",
      "Epoch 8/10\n",
      "620/620 [==============================] - 0s 487us/step - loss: 4.3785 - accuracy: 0.6811\n",
      "Epoch 9/10\n",
      "620/620 [==============================] - 0s 489us/step - loss: 3.9528 - accuracy: 0.6838\n",
      "Epoch 10/10\n",
      "620/620 [==============================] - 0s 488us/step - loss: 3.9164 - accuracy: 0.6845\n"
     ]
    },
    {
     "data": {
      "text/plain": [
       "<tensorflow.python.keras.callbacks.History at 0x21e5709b088>"
      ]
     },
     "execution_count": 64,
     "metadata": {},
     "output_type": "execute_result"
    }
   ],
   "source": [
    "model2.fit(traindata, trainlabel2, epochs=10)"
   ]
  },
  {
   "cell_type": "code",
   "execution_count": 65,
   "metadata": {},
   "outputs": [],
   "source": [
    "test_size = 100\n",
    "\n",
    "testdata=[]\n",
    "testlabel1=[]\n",
    "testlabel2=[]\n",
    "\n",
    "for i in range(size):\n",
    "    try:\n",
    "        (sol, mark) = generateStep(generateEquation())\n",
    "        for j in range(4):\n",
    "            testdata.append(sol[j:j+2])\n",
    "        testlabel1+=mark[0]\n",
    "        testlabel2+=mark[1]\n",
    "    except:\n",
    "        i=i-1"
   ]
  },
  {
   "cell_type": "code",
   "execution_count": 66,
   "metadata": {},
   "outputs": [
    {
     "name": "stdout",
     "output_type": "stream",
     "text": [
      "620/620 [==============================] - 0s 384us/step - loss: 0.4377 - accuracy: 0.8011\n"
     ]
    },
    {
     "data": {
      "text/plain": [
       "[0.43770289421081543, 0.8010687828063965]"
      ]
     },
     "execution_count": 66,
     "metadata": {},
     "output_type": "execute_result"
    }
   ],
   "source": [
    "model1.evaluate(testdata, testlabel1)"
   ]
  },
  {
   "cell_type": "code",
   "execution_count": 67,
   "metadata": {},
   "outputs": [
    {
     "name": "stdout",
     "output_type": "stream",
     "text": [
      "620/620 [==============================] - 0s 411us/step - loss: 7.7883 - accuracy: 0.6346\n"
     ]
    },
    {
     "data": {
      "text/plain": [
       "[7.788341522216797, 0.6345533132553101]"
      ]
     },
     "execution_count": 67,
     "metadata": {},
     "output_type": "execute_result"
    }
   ],
   "source": [
    "model2.evaluate(testdata, testlabel2)"
   ]
  },
  {
   "cell_type": "code",
   "execution_count": null,
   "metadata": {},
   "outputs": [],
   "source": []
  }
 ],
 "metadata": {
  "kernelspec": {
   "display_name": "Python 3.7 (tensorflow)",
   "language": "python",
   "name": "tensorflow"
  },
  "language_info": {
   "codemirror_mode": {
    "name": "ipython",
    "version": 3
   },
   "file_extension": ".py",
   "mimetype": "text/x-python",
   "name": "python",
   "nbconvert_exporter": "python",
   "pygments_lexer": "ipython3",
   "version": "3.7.9"
  }
 },
 "nbformat": 4,
 "nbformat_minor": 4
}
