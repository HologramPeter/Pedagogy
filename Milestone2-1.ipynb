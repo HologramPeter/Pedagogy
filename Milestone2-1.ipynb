{
 "cells": [
  {
   "cell_type": "code",
   "execution_count": 1,
   "metadata": {},
   "outputs": [],
   "source": [
    "import random\n",
    "import tensorflow as tf\n",
    "import numpy as np"
   ]
  },
  {
   "cell_type": "code",
   "execution_count": 53,
   "metadata": {},
   "outputs": [],
   "source": [
    "symbol = {\n",
    "    '+':1000,\n",
    "    '-':2000,\n",
    "    '*':3000,\n",
    "    '/':4000,\n",
    "}\n",
    "\n",
    "symbol_s = {\n",
    "    1000:'+',\n",
    "    2000:'-',\n",
    "    3000:'*',\n",
    "    4000:'/',\n",
    "}"
   ]
  },
  {
   "cell_type": "code",
   "execution_count": 5,
   "metadata": {},
   "outputs": [],
   "source": [
    "upper_bound=10\n",
    "lower_bound=1\n",
    "\n",
    "def generateEquation():\n",
    "    eq = []\n",
    "    eq.append(str(random.randint(lower_bound, upper_bound)))\n",
    "    for i in range(4):\n",
    "        eq.append(symbol_s[random.randint(1, 4)*1000])\n",
    "        eq.append(str(random.randint(lower_bound, upper_bound)))\n",
    "    return eq"
   ]
  },
  {
   "cell_type": "code",
   "execution_count": 6,
   "metadata": {},
   "outputs": [
    {
     "name": "stdout",
     "output_type": "stream",
     "text": [
      "5/8*5-3+9\n"
     ]
    }
   ],
   "source": [
    "test = generateEquation()\n",
    "print(''.join(test))"
   ]
  },
  {
   "cell_type": "code",
   "execution_count": 7,
   "metadata": {},
   "outputs": [],
   "source": [
    "def generateStep(a):  \n",
    "    mark=[] # step1 marks\n",
    "    sol = [a]\n",
    "    \n",
    "    n = len(a)//2\n",
    "    \n",
    "    prev = a\n",
    "    for i in range(n-1,-1,-1):\n",
    "        x = random.randint(0,i)*2\n",
    "        #print(\"i=\"+str(i)+\"x=\"+str(x))\n",
    "        #print(prev[:2*x],prev[2*x+3:])\n",
    "        \n",
    "        middle = x+1\n",
    "        while prev[middle]=='':\n",
    "            middle+=1;\n",
    "        \n",
    "        start = middle-1\n",
    "        while prev[start]=='':\n",
    "            start-=1;\n",
    "            \n",
    "        end = middle+1\n",
    "        while prev[end]=='':\n",
    "            end+=1;\n",
    "        #print(start,middle,end)\n",
    "        \n",
    "        #prefix\n",
    "        step = prev[:start]\n",
    "        #process step\n",
    "        \n",
    "        cal_value = eval(''.join(prev[start:end+1]))\n",
    "        step.append(str(cal_value))\n",
    "        #suffix\n",
    "        step += ['']*(end-start)\n",
    "        step += prev[end+1:]\n",
    "        sol.append(step)\n",
    "        \n",
    "        #print(step)\n",
    "        #print(''.join(prev[x:x+3]))\n",
    "        \n",
    "        #give mark\n",
    "        sym = a[middle]\n",
    "        if sym == '+':\n",
    "            mark.append(0) if ('*' in prev) or ('/' in prev) else mark.append(1)\n",
    "        elif sym == '-':\n",
    "            mark.append(0) if ('*' in prev) or ('/' in prev) else mark.append(1)\n",
    "        else:\n",
    "            mark.append(1)\n",
    "\n",
    "        \n",
    "        \n",
    "        prev = step\n",
    "    \n",
    "    \n",
    "    \n",
    "    \n",
    "    \n",
    "    return (sol,mark)"
   ]
  },
  {
   "cell_type": "code",
   "execution_count": 8,
   "metadata": {
    "scrolled": true
   },
   "outputs": [
    {
     "name": "stdout",
     "output_type": "stream",
     "text": [
      "9\n",
      "9\n",
      "9\n",
      "9\n",
      "9\n"
     ]
    }
   ],
   "source": [
    "test = generateEquation()\n",
    "(sol,mark) = generateStep(test)\n",
    "for step in sol:\n",
    "    print(len(step))"
   ]
  },
  {
   "cell_type": "code",
   "execution_count": 9,
   "metadata": {},
   "outputs": [],
   "source": [
    "def Token(a):\n",
    "    _a = []\n",
    "    for x in range(2):\n",
    "        _step = []\n",
    "        for i in a[x]:\n",
    "            if i == '':\n",
    "                _i=0\n",
    "            else:\n",
    "                try:\n",
    "                    _i = float(i)\n",
    "                except:\n",
    "                    _i = symbol[i]\n",
    "            _step.append(_i)\n",
    "        _a.append(_step)\n",
    "    return _a"
   ]
  },
  {
   "cell_type": "code",
   "execution_count": 23,
   "metadata": {},
   "outputs": [
    {
     "name": "stdout",
     "output_type": "stream",
     "text": [
      "3964 3964\n"
     ]
    }
   ],
   "source": [
    "size = 1000\n",
    "\n",
    "traindata=[]\n",
    "trainlabel=[]\n",
    "\n",
    "for i in range(size):\n",
    "    try:\n",
    "        (sol, mark) = generateStep(generateEquation())\n",
    "        for j in range(4):\n",
    "            traindata.append(Token(sol[j:j+2]))\n",
    "        trainlabel+=mark\n",
    "    except:\n",
    "        i=i-1\n",
    "\n",
    "print(len(traindata),len(trainlabel))\n",
    "#print(traindata)\n",
    "#print('\\n')\n",
    "#print(trainlabel)"
   ]
  },
  {
   "cell_type": "code",
   "execution_count": 24,
   "metadata": {},
   "outputs": [],
   "source": [
    "model = tf.keras.models.Sequential([tf.keras.layers.Flatten(), \n",
    "                                    tf.keras.layers.Dense(36, activation=tf.nn.relu),\n",
    "                                    tf.keras.layers.Dense(2, activation=tf.nn.softmax)])\n",
    "\n",
    "model.compile(optimizer = tf.keras.optimizers.Adam(),\n",
    "              loss = 'sparse_categorical_crossentropy',\n",
    "              metrics=['accuracy'])"
   ]
  },
  {
   "cell_type": "code",
   "execution_count": 25,
   "metadata": {},
   "outputs": [
    {
     "name": "stdout",
     "output_type": "stream",
     "text": [
      "Epoch 1/10\n",
      "124/124 [==============================] - 0s 2ms/step - loss: 44.5659 - accuracy: 0.7861\n",
      "Epoch 2/10\n",
      "124/124 [==============================] - 0s 2ms/step - loss: 4.6731 - accuracy: 0.9092\n",
      "Epoch 3/10\n",
      "124/124 [==============================] - 0s 2ms/step - loss: 3.7993 - accuracy: 0.9190\n",
      "Epoch 4/10\n",
      "124/124 [==============================] - 0s 2ms/step - loss: 2.9785 - accuracy: 0.9263\n",
      "Epoch 5/10\n",
      "124/124 [==============================] - 0s 2ms/step - loss: 3.4497 - accuracy: 0.9228\n",
      "Epoch 6/10\n",
      "124/124 [==============================] - 0s 2ms/step - loss: 2.8674 - accuracy: 0.9304\n",
      "Epoch 7/10\n",
      "124/124 [==============================] - 0s 3ms/step - loss: 2.7140 - accuracy: 0.9321\n",
      "Epoch 8/10\n",
      "124/124 [==============================] - 0s 3ms/step - loss: 2.5240 - accuracy: 0.9337\n",
      "Epoch 9/10\n",
      "124/124 [==============================] - 0s 3ms/step - loss: 2.6675 - accuracy: 0.9301\n",
      "Epoch 10/10\n",
      "124/124 [==============================] - 0s 3ms/step - loss: 2.4275 - accuracy: 0.9337\n"
     ]
    },
    {
     "data": {
      "text/plain": [
       "<tensorflow.python.keras.callbacks.History at 0x2dac55ba748>"
      ]
     },
     "execution_count": 25,
     "metadata": {},
     "output_type": "execute_result"
    }
   ],
   "source": [
    "model.fit(traindata, trainlabel, epochs=10)"
   ]
  },
  {
   "cell_type": "code",
   "execution_count": 168,
   "metadata": {},
   "outputs": [],
   "source": [
    "test_size = 1000\n",
    "\n",
    "testdata=[]\n",
    "testlabel=[]\n",
    "\n",
    "for i in range(size):\n",
    "    try:\n",
    "        (sol, mark) = generateStep(generateEquation())\n",
    "        for j in range(4):\n",
    "            testdata.append(Token(sol[j:j+2]))\n",
    "        testlabel+=mark\n",
    "    except:\n",
    "        i=i-1"
   ]
  },
  {
   "cell_type": "code",
   "execution_count": 169,
   "metadata": {},
   "outputs": [
    {
     "name": "stdout",
     "output_type": "stream",
     "text": [
      "125/125 [==============================] - 0s 2ms/step - loss: 2.7060 - accuracy: 0.9225\n"
     ]
    },
    {
     "data": {
      "text/plain": [
       "[2.705986738204956, 0.922457218170166]"
      ]
     },
     "execution_count": 169,
     "metadata": {},
     "output_type": "execute_result"
    }
   ],
   "source": [
    "model.evaluate(testdata, testlabel)"
   ]
  },
  {
   "cell_type": "code",
   "execution_count": null,
   "metadata": {},
   "outputs": [],
   "source": [
    "#export model\n",
    "#\n",
    "#\n",
    "#"
   ]
  },
  {
   "cell_type": "code",
   "execution_count": 170,
   "metadata": {},
   "outputs": [],
   "source": [
    "#Standardizer\n",
    "LENGTH = 9\n",
    "def Standardize(a):\n",
    "    sol = []\n",
    "    for line in a:\n",
    "        step = []\n",
    "        l = len(line)\n",
    "        \n",
    "        start = 0\n",
    "        end = 0\n",
    "        e = 0\n",
    "        while end < l:\n",
    "            while line[end] not in symbol.keys():\n",
    "                end+=1\n",
    "                if end >= l:\n",
    "                    break\n",
    "            step.append(line[start:end])\n",
    "            \n",
    "            if end >= l:\n",
    "                break\n",
    "                \n",
    "            sym = line[end]\n",
    "            if len(sol) > 0:\n",
    "                e = len(step)+1\n",
    "                while sym != sol[0][e]:\n",
    "                    step.append('')\n",
    "                    e+=1\n",
    "                \n",
    "            step.append(sym)\n",
    "            \n",
    "            start=end+1\n",
    "            end+=1\n",
    "        \n",
    "        step += ['']*(LENGTH-len(step))   \n",
    "        sol.append(step)\n",
    "    \n",
    "    return sol"
   ]
  },
  {
   "cell_type": "code",
   "execution_count": 176,
   "metadata": {},
   "outputs": [
    {
     "name": "stdout",
     "output_type": "stream",
     "text": [
      "1+2*3-8/4\n",
      "= 3*3-8/4 \t\t 1 100.0\n",
      "= 3*3-2 \t\t 1 100.0\n",
      "= 9-2 \t\t 1 100.0\n",
      "7\n"
     ]
    }
   ],
   "source": [
    "#Practice\n",
    "\n",
    "formula = \"1+2*3-8/4 = 3*3-8/4 = 3*3-2 = 9-2 = 7\"\n",
    "lines = formula.split(\"=\")\n",
    "for i in range(len(lines)):\n",
    "    lines[i]=lines[i].strip()\n",
    "\n",
    "sol = Standardize(lines)\n",
    "n = len(sol)\n",
    "\n",
    "print(''.join(sol[0]))\n",
    "\n",
    "for j in range(1, n-1):\n",
    "    input_sol = Token(sol[j:j+2])\n",
    "    result = model.predict([input_sol])\n",
    "    print('=',''.join(sol[j]), end=' ')\n",
    "    print(\"\\t\\t\",np.argmax(result),round(max(result[0])*100,2))\n",
    "\n",
    "print(''.join(sol[n-1]))\n",
    "\n",
    "        \n",
    "\n",
    "\n"
   ]
  },
  {
   "cell_type": "code",
   "execution_count": null,
   "metadata": {},
   "outputs": [],
   "source": []
  }
 ],
 "metadata": {
  "kernelspec": {
   "display_name": "Python 3.7 (tensorflow)",
   "language": "python",
   "name": "tensorflow"
  },
  "language_info": {
   "codemirror_mode": {
    "name": "ipython",
    "version": 3
   },
   "file_extension": ".py",
   "mimetype": "text/x-python",
   "name": "python",
   "nbconvert_exporter": "python",
   "pygments_lexer": "ipython3",
   "version": "3.7.9"
  }
 },
 "nbformat": 4,
 "nbformat_minor": 4
}
