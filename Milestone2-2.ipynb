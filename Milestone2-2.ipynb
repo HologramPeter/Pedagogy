{
 "cells": [
  {
   "cell_type": "code",
   "execution_count": 1,
   "metadata": {},
   "outputs": [],
   "source": [
    "import os"
   ]
  },
  {
   "cell_type": "code",
   "execution_count": 2,
   "metadata": {},
   "outputs": [],
   "source": [
    "import random\n",
    "import tensorflow as tf\n",
    "import numpy as np"
   ]
  },
  {
   "cell_type": "code",
   "execution_count": 3,
   "metadata": {},
   "outputs": [],
   "source": [
    "#conversion dictionary\n",
    "symbol = {\n",
    "    '+':1,\n",
    "    '-':-1,\n",
    "    '*':2,\n",
    "    '/':-2,\n",
    "    '=':5\n",
    "}\n",
    "\n",
    "symbol_s = {\n",
    "    1:'+',\n",
    "    -1:'-',\n",
    "    2:'*',\n",
    "    -2:'/',\n",
    "    5:'='\n",
    "}"
   ]
  },
  {
   "cell_type": "code",
   "execution_count": 81,
   "metadata": {},
   "outputs": [],
   "source": [
    "upper_bound=10\n",
    "lower_bound=1\n",
    "\n",
    "def generateSets():\n",
    "    sets = []\n",
    "    marks=[]\n",
    "    sol = []\n",
    "    #ax+b = c\n",
    "    a = random.randint(lower_bound, upper_bound)\n",
    "    b = random.randint(lower_bound, upper_bound)\n",
    "    c = random.randint(lower_bound, upper_bound)\n",
    "    n = random.randint(0, 1)*2-1\n",
    "    _b = eval(symbol_s[n]+str(b))\n",
    "    while c==_b:\n",
    "        c = random.randint(lower_bound, upper_bound)\n",
    "    \n",
    "    x = (c-b)/a\n",
    "    e = symbol['=']\n",
    "    \n",
    "    sol = [\n",
    "        [a,x,n,b,e,c],\n",
    "        [a,x,e,c-_b,0,0],\n",
    "        [x,e,(c-_b)/a,0,0,0]\n",
    "    ]\n",
    "    sets.append(sol)\n",
    "    marks+=[1,1]\n",
    "    \n",
    "    sol = [\n",
    "        [a,x,n,b,e,c],\n",
    "        [a,x,e,c-_b,0,0],\n",
    "        [x,e,(c-_b)*a,0,0,0]\n",
    "    ]\n",
    "    \n",
    "    sets.append(sol)\n",
    "    marks+=[1,0]\n",
    "    \n",
    "    sol = [\n",
    "        [a,x,n,b,e,c],\n",
    "        [a,x,e,c+_b,0,0],\n",
    "        [x,e,(c+_b)/a,0,0,0]\n",
    "    ]\n",
    "    \n",
    "    sets.append(sol)\n",
    "    marks+=[0,1]\n",
    "    \n",
    "    return (sets,marks)"
   ]
  },
  {
   "cell_type": "code",
   "execution_count": 82,
   "metadata": {
    "scrolled": true
   },
   "outputs": [],
   "source": [
    "#TEST-ONLY\n",
    "(sets,marks) = generateSets()"
   ]
  },
  {
   "cell_type": "code",
   "execution_count": 83,
   "metadata": {},
   "outputs": [],
   "source": [
    "training_size = 1000\n",
    "\n",
    "traindata=[]\n",
    "trainlabel=[]\n",
    "\n",
    "#generate training set\n",
    "#( [step => step],mark )   as 1 training case \n",
    "for i in range(training_size):\n",
    "    (sets, marks) = generateSets()\n",
    "    for sol in sets:\n",
    "        #3 sols\n",
    "        for i in range(2):\n",
    "            #2steps\n",
    "            traindata.append(sol[i:i+2])\n",
    "            \n",
    "    trainlabel+=marks"
   ]
  },
  {
   "cell_type": "code",
   "execution_count": 84,
   "metadata": {},
   "outputs": [
    {
     "name": "stdout",
     "output_type": "stream",
     "text": [
      "6000 6000\n"
     ]
    }
   ],
   "source": [
    "#TEST-ONLY\n",
    "print(len(traindata),len(trainlabel))"
   ]
  },
  {
   "cell_type": "code",
   "execution_count": 85,
   "metadata": {},
   "outputs": [],
   "source": [
    "#employ model with 6*2 neurons for accuracy improvement\n",
    "\n",
    "model = tf.keras.models.Sequential([tf.keras.layers.Flatten(), \n",
    "                                    tf.keras.layers.Dense(12, activation=tf.nn.relu),\n",
    "                                    tf.keras.layers.Dense(2, activation=tf.nn.softmax)])\n",
    "\n",
    "model.compile(optimizer = tf.keras.optimizers.Adam(),\n",
    "              loss = 'sparse_categorical_crossentropy',\n",
    "              metrics=['accuracy'])"
   ]
  },
  {
   "cell_type": "code",
   "execution_count": 86,
   "metadata": {},
   "outputs": [
    {
     "name": "stdout",
     "output_type": "stream",
     "text": [
      "Epoch 1/10\n",
      "188/188 [==============================] - 0s 2ms/step - loss: 0.8599 - accuracy: 0.6278\n",
      "Epoch 2/10\n",
      "188/188 [==============================] - 0s 2ms/step - loss: 0.4948 - accuracy: 0.7258\n",
      "Epoch 3/10\n",
      "188/188 [==============================] - 0s 2ms/step - loss: 0.4282 - accuracy: 0.7612\n",
      "Epoch 4/10\n",
      "188/188 [==============================] - 1s 4ms/step - loss: 0.3881 - accuracy: 0.7893\n",
      "Epoch 5/10\n",
      "188/188 [==============================] - 0s 2ms/step - loss: 0.3460 - accuracy: 0.8252\n",
      "Epoch 6/10\n",
      "188/188 [==============================] - 0s 2ms/step - loss: 0.3056 - accuracy: 0.8575\n",
      "Epoch 7/10\n",
      "188/188 [==============================] - 0s 2ms/step - loss: 0.2669 - accuracy: 0.8933\n",
      "Epoch 8/10\n",
      "188/188 [==============================] - 0s 3ms/step - loss: 0.2271 - accuracy: 0.9323\n",
      "Epoch 9/10\n",
      "188/188 [==============================] - 1s 3ms/step - loss: 0.1907 - accuracy: 0.9498\n",
      "Epoch 10/10\n",
      "188/188 [==============================] - 1s 3ms/step - loss: 0.1615 - accuracy: 0.9587\n"
     ]
    },
    {
     "data": {
      "text/plain": [
       "<tensorflow.python.keras.callbacks.History at 0x21a5fe02208>"
      ]
     },
     "execution_count": 86,
     "metadata": {},
     "output_type": "execute_result"
    }
   ],
   "source": [
    "model.fit(traindata, trainlabel, epochs=10)"
   ]
  },
  {
   "cell_type": "code",
   "execution_count": 87,
   "metadata": {},
   "outputs": [],
   "source": [
    "test_size = 1000\n",
    "\n",
    "testdata=[]\n",
    "testlabel=[]\n",
    "\n",
    "#generate training set\n",
    "#( [step => step],mark )   as 1 training case \n",
    "for i in range(test_size):\n",
    "    (sets, marks) = generateSets()\n",
    "    for sol in sets:\n",
    "        #3 sols\n",
    "        for i in range(2):\n",
    "            #2steps\n",
    "            testdata.append(sol[i:i+2])\n",
    "            \n",
    "    testlabel+=marks"
   ]
  },
  {
   "cell_type": "code",
   "execution_count": 88,
   "metadata": {},
   "outputs": [
    {
     "name": "stdout",
     "output_type": "stream",
     "text": [
      "188/188 [==============================] - 0s 1ms/step - loss: 0.1517 - accuracy: 0.9622\n"
     ]
    },
    {
     "data": {
      "text/plain": [
       "[0.15171509981155396, 0.9621666669845581]"
      ]
     },
     "execution_count": 88,
     "metadata": {},
     "output_type": "execute_result"
    }
   ],
   "source": [
    "model.evaluate(testdata, testlabel)"
   ]
  },
  {
   "cell_type": "code",
   "execution_count": 89,
   "metadata": {},
   "outputs": [
    {
     "name": "stdout",
     "output_type": "stream",
     "text": [
      "INFO:tensorflow:Assets written to: saved_model/model2\\assets\n"
     ]
    }
   ],
   "source": [
    "# Save the whole model\n",
    "model.save('saved_model/model2') "
   ]
  },
  {
   "cell_type": "code",
   "execution_count": 90,
   "metadata": {},
   "outputs": [],
   "source": [
    "############  WEB-DEMO BEGINS HERE ############"
   ]
  },
  {
   "cell_type": "code",
   "execution_count": 91,
   "metadata": {},
   "outputs": [],
   "source": [
    "new_model = tf.keras.models.load_model('saved_model/model2')"
   ]
  },
  {
   "cell_type": "code",
   "execution_count": 94,
   "metadata": {},
   "outputs": [],
   "source": [
    "#tokenize solution convert:\n",
    "#empty ''  to    0\n",
    "#numbers   to    float\n",
    "#signs     to    token values\n",
    "\n",
    "def Token(a,ans):\n",
    "    _a = []\n",
    "    for step in a:\n",
    "        _s=[]\n",
    "        i = 0\n",
    "        j = 1\n",
    "        while i < len(step) and j <= len(step):\n",
    "            #print(step[i:j],i,j)\n",
    "            if step[i:j] == 'x':\n",
    "                _s.append(ans)\n",
    "                i+=1\n",
    "                j+=1\n",
    "            elif step[i:j] in symbol.keys():\n",
    "                _s.append(symbol[step[i:j]])\n",
    "                i+=1\n",
    "                j+=1\n",
    "            else:\n",
    "                while step[i:j].isnumeric() and j <= len(step):\n",
    "                    j+=1\n",
    "                num = int(''.join(step[i:j-1]))\n",
    "                _s.append(num)\n",
    "                i=j-1\n",
    "        _s+=[0]*(6-len(_s))\n",
    "        _a.append(_s)\n",
    "    #print(_a)\n",
    "    return _a"
   ]
  },
  {
   "cell_type": "code",
   "execution_count": 102,
   "metadata": {},
   "outputs": [
    {
     "name": "stdout",
     "output_type": "stream",
     "text": [
      "2x+3=7\n",
      "2x=4\t\t1 93.82\n",
      "x=100\t\t0 100.0\n"
     ]
    }
   ],
   "source": [
    "#Practice\n",
    "ans=2\n",
    "#formula = \"2x+3=7 \\n 2x=4 \\n x=2\"\n",
    "#formula = \"2x+3=7 \\n 2x=10 \\n x=5\"\n",
    "#formula = \"2x+3=7 \\n 2x=4 \\n x=100\"\n",
    "\n",
    "#adjust formula\n",
    "sol = formula.split(\"\\n\")\n",
    "for i in range(len(sol)):\n",
    "    sol[i]=sol[i].strip()\n",
    "\n",
    "#print question\n",
    "print(sol[0])\n",
    "\n",
    "for j in range(1,3):\n",
    "    #use AI to process\n",
    "    input_sol = Token(sol[j-1:j+1],ans)\n",
    "    #print(input_sol)\n",
    "    result = new_model.predict([input_sol])\n",
    "    \n",
    "    #print result\n",
    "    print(sol[j],end=\"\\t\\t\")\n",
    "    print(np.argmax(result),round(max(result[0])*100,2))"
   ]
  },
  {
   "cell_type": "code",
   "execution_count": null,
   "metadata": {},
   "outputs": [],
   "source": [
    "import tensorflowjs as tfjs"
   ]
  },
  {
   "cell_type": "code",
   "execution_count": null,
   "metadata": {},
   "outputs": [],
   "source": [
    "tfjs.converters.save_keras_model(new_model, \"saved_model/modeljs\")"
   ]
  },
  {
   "cell_type": "code",
   "execution_count": null,
   "metadata": {},
   "outputs": [],
   "source": []
  }
 ],
 "metadata": {
  "kernelspec": {
   "display_name": "Python 3.7 (tensorflow)",
   "language": "python",
   "name": "tensorflow"
  },
  "language_info": {
   "codemirror_mode": {
    "name": "ipython",
    "version": 3
   },
   "file_extension": ".py",
   "mimetype": "text/x-python",
   "name": "python",
   "nbconvert_exporter": "python",
   "pygments_lexer": "ipython3",
   "version": "3.7.9"
  }
 },
 "nbformat": 4,
 "nbformat_minor": 4
}
