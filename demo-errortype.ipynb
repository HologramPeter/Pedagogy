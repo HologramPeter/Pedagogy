{
 "cells": [
  {
   "cell_type": "code",
   "execution_count": 1,
   "metadata": {},
   "outputs": [],
   "source": [
    "import random\n",
    "import tensorflow as tf\n",
    "import numpy as np"
   ]
  },
  {
   "cell_type": "code",
   "execution_count": 2,
   "metadata": {},
   "outputs": [],
   "source": [
    "def generate_sentence(preset):\n",
    "    a = random.randint(upper_bound, lower_bound)\n",
    "    b = random.randint(upper_bound, lower_bound)\n",
    "    c = random.randint(upper_bound, lower_bound)\n",
    "    \n",
    "    sentence = [[a,b,c]]\n",
    "    if(preset == 3):\n",
    "        label = random.randint(0, 2)\n",
    "    else:\n",
    "        label = preset\n",
    "    \n",
    "    if label == 0:\n",
    "        sentence.append([a,b*c,0]) #correct\n",
    "        sentence.append([a+b*c,0,0])\n",
    "    elif label == 1:\n",
    "        sentence.append([a+b,0,c]) #wrong step\n",
    "        sentence.append([(a+b)*c,0,0])\n",
    "    else:\n",
    "        error1 = random.randint(0, 3)\n",
    "        error2 = random.randint(0, 3)\n",
    "        sentence.append([a+error1,0, b*c+error2]) #wrong calculation\n",
    "        sentence.append([a+b*c + error1 + error2,0, 0])\n",
    "    return (label, sentence)\n",
    "\n",
    "def print_sentence(sentence):\n",
    "    print(str(sentence[0][0]) +'+'+ str(sentence[0][1]) +'*'+ str(sentence[0][2]))\n",
    "    if sentence[1][1] == 0:\n",
    "        print('=' + str(sentence[1][0]) + '*' +  str(sentence[1][2]))\n",
    "    elif sentence[1][2] == 0:\n",
    "        print('=' + str(sentence[1][0]) + '+' +  str(sentence[1][1]))\n",
    "    else:\n",
    "        print('=' + str(sentence[1][0]) +'+'+ str(sentence[1][1]) +'*'+ str(sentence[1][2]))\n",
    "    print('=' + str(sentence[2][0]))\n",
    "    \n",
    "d = {\n",
    "    0: \"is correct\",\n",
    "    1: \"has wrong step\",\n",
    "    2: \"has error in calculation\"\n",
    "    }"
   ]
  },
  {
   "cell_type": "code",
   "execution_count": 3,
   "metadata": {},
   "outputs": [],
   "source": [
    "upper_bound = 1\n",
    "lower_bound = 20\n",
    "size = 2500\n",
    "\n",
    "traindata=[]\n",
    "trainlabel=[]\n",
    "\n",
    "for i in range(size):\n",
    "    (x,y) = generate_sentence(3)\n",
    "    trainlabel.append(x)\n",
    "    traindata.append(y)"
   ]
  },
  {
   "cell_type": "code",
   "execution_count": 4,
   "metadata": {},
   "outputs": [],
   "source": [
    "model = tf.keras.models.Sequential([tf.keras.layers.Flatten(), \n",
    "                                    tf.keras.layers.Dense(9, activation=tf.nn.relu), \n",
    "                                    tf.keras.layers.Dense(3, activation=tf.nn.softmax)])\n",
    "\n",
    "model.compile(optimizer = tf.keras.optimizers.Adam(),\n",
    "              loss = 'sparse_categorical_crossentropy',\n",
    "              metrics=['accuracy'])"
   ]
  },
  {
   "cell_type": "code",
   "execution_count": 5,
   "metadata": {},
   "outputs": [
    {
     "name": "stdout",
     "output_type": "stream",
     "text": [
      "Epoch 1/10\n",
      "79/79 [==============================] - 0s 2ms/step - loss: 3.6734 - accuracy: 0.4544\n",
      "Epoch 2/10\n",
      "79/79 [==============================] - 0s 2ms/step - loss: 0.3964 - accuracy: 0.8744\n",
      "Epoch 3/10\n",
      "79/79 [==============================] - 0s 1ms/step - loss: 0.2178 - accuracy: 0.9180\n",
      "Epoch 4/10\n",
      "79/79 [==============================] - 0s 1ms/step - loss: 0.1619 - accuracy: 0.9348\n",
      "Epoch 5/10\n",
      "79/79 [==============================] - 0s 1ms/step - loss: 0.1335 - accuracy: 0.9460\n",
      "Epoch 6/10\n",
      "79/79 [==============================] - 0s 934us/step - loss: 0.1139 - accuracy: 0.9520\n",
      "Epoch 7/10\n",
      "79/79 [==============================] - 0s 922us/step - loss: 0.0993 - accuracy: 0.9568\n",
      "Epoch 8/10\n",
      "79/79 [==============================] - 0s 934us/step - loss: 0.0871 - accuracy: 0.9600\n",
      "Epoch 9/10\n",
      "79/79 [==============================] - 0s 1ms/step - loss: 0.0758 - accuracy: 0.9712\n",
      "Epoch 10/10\n",
      "79/79 [==============================] - 0s 985us/step - loss: 0.0670 - accuracy: 0.9808\n"
     ]
    },
    {
     "data": {
      "text/plain": [
       "<tensorflow.python.keras.callbacks.History at 0x236d721d2c8>"
      ]
     },
     "execution_count": 5,
     "metadata": {},
     "output_type": "execute_result"
    }
   ],
   "source": [
    "model.fit(traindata, trainlabel, epochs=10)"
   ]
  },
  {
   "cell_type": "code",
   "execution_count": 19,
   "metadata": {},
   "outputs": [],
   "source": [
    "test_size = 500\n",
    "\n",
    "testdata=[]\n",
    "testlabel=[]\n",
    "\n",
    "for i in range(test_size):\n",
    "    (x,y) = generate_sentence(3)\n",
    "    testlabel.append(x)\n",
    "    testdata.append(y)"
   ]
  },
  {
   "cell_type": "code",
   "execution_count": 20,
   "metadata": {},
   "outputs": [
    {
     "name": "stdout",
     "output_type": "stream",
     "text": [
      "16/16 [==============================] - 0s 1ms/step - loss: 0.0512 - accuracy: 0.9900\n"
     ]
    },
    {
     "data": {
      "text/plain": [
       "[0.051234170794487, 0.9900000095367432]"
      ]
     },
     "execution_count": 20,
     "metadata": {},
     "output_type": "execute_result"
    }
   ],
   "source": [
    "model.evaluate(testdata, testlabel)"
   ]
  },
  {
   "cell_type": "code",
   "execution_count": 16,
   "metadata": {},
   "outputs": [
    {
     "name": "stdout",
     "output_type": "stream",
     "text": [
      "16+5*14\n",
      "=16+70\n",
      "=86\n",
      "99.96% chance the equation is correct\n",
      "The equation actually is correct\n"
     ]
    }
   ],
   "source": [
    "(x,y) = generate_sentence(3)\n",
    "result = model.predict([y])\n",
    "\n",
    "chance = round(max(result[0])*100,2)\n",
    "label = np.argmax(result)\n",
    "\n",
    "print_sentence(y)\n",
    "\n",
    "print(str(chance) + \"% chance the equation \" + d[label])\n",
    "print(\"The equation actually \" + d[x])"
   ]
  },
  {
   "cell_type": "code",
   "execution_count": null,
   "metadata": {},
   "outputs": [],
   "source": []
  },
  {
   "cell_type": "code",
   "execution_count": null,
   "metadata": {},
   "outputs": [],
   "source": []
  }
 ],
 "metadata": {
  "kernelspec": {
   "display_name": "Python 3.7 (tensorflow)",
   "language": "python",
   "name": "tensorflow"
  },
  "language_info": {
   "codemirror_mode": {
    "name": "ipython",
    "version": 3
   },
   "file_extension": ".py",
   "mimetype": "text/x-python",
   "name": "python",
   "nbconvert_exporter": "python",
   "pygments_lexer": "ipython3",
   "version": "3.7.9"
  }
 },
 "nbformat": 4,
 "nbformat_minor": 4
}
